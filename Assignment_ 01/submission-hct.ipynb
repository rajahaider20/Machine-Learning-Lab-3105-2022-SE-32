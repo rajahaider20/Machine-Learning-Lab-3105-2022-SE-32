{
 "cells": [
  {
   "cell_type": "code",
   "execution_count": 1,
   "id": "574d69d4",
   "metadata": {
    "_cell_guid": "b1076dfc-b9ad-4769-8c92-a6c4dae69d19",
    "_uuid": "8f2839f25d086af736a60e9eeb907d3b93b6e0e5",
    "execution": {
     "iopub.execute_input": "2025-03-04T15:57:58.645333Z",
     "iopub.status.busy": "2025-03-04T15:57:58.644944Z",
     "iopub.status.idle": "2025-03-04T15:57:58.674982Z",
     "shell.execute_reply": "2025-03-04T15:57:58.673583Z"
    },
    "papermill": {
     "duration": 0.035529,
     "end_time": "2025-03-04T15:57:58.676885",
     "exception": false,
     "start_time": "2025-03-04T15:57:58.641356",
     "status": "completed"
    },
    "tags": []
   },
   "outputs": [
    {
     "name": "stdout",
     "output_type": "stream",
     "text": [
      "/kaggle/input/training-hct-survival/training_columns.pkl\n",
      "/kaggle/input/training-hct-survival/cat_imputer.pkl\n",
      "/kaggle/input/training-hct-survival/num_imputer.pkl\n",
      "/kaggle/input/training-hct-survival/__results__.html\n",
      "/kaggle/input/training-hct-survival/encoder.pkl\n",
      "/kaggle/input/training-hct-survival/num_cols.pkl\n",
      "/kaggle/input/training-hct-survival/scaler.pkl\n",
      "/kaggle/input/training-hct-survival/cat_cols.pkl\n",
      "/kaggle/input/training-hct-survival/__notebook__.ipynb\n",
      "/kaggle/input/training-hct-survival/__output__.json\n",
      "/kaggle/input/training-hct-survival/xgboost_model.model\n",
      "/kaggle/input/training-hct-survival/custom.css\n",
      "/kaggle/input/train2/efs_model.pth\n",
      "/kaggle/input/train2/__results__.html\n",
      "/kaggle/input/train2/__notebook__.ipynb\n",
      "/kaggle/input/train2/__output__.json\n",
      "/kaggle/input/train2/custom.css\n",
      "/kaggle/input/train2/preprocessor/cat_imputer.pkl\n",
      "/kaggle/input/train2/preprocessor/num_imputer.pkl\n",
      "/kaggle/input/train2/preprocessor/encoder.pkl\n",
      "/kaggle/input/train2/preprocessor/scaler.pkl\n",
      "/kaggle/input/equity-post-HCT-survival-predictions/sample_submission.csv\n",
      "/kaggle/input/equity-post-HCT-survival-predictions/data_dictionary.csv\n",
      "/kaggle/input/equity-post-HCT-survival-predictions/train.csv\n",
      "/kaggle/input/equity-post-HCT-survival-predictions/test.csv\n"
     ]
    }
   ],
   "source": [
    "import os\n",
    "for dirname, _, filenames in os.walk('/kaggle/input'):\n",
    "    for filename in filenames:\n",
    "        print(os.path.join(dirname, filename))"
   ]
  },
  {
   "cell_type": "code",
   "execution_count": 2,
   "id": "0db0fe33",
   "metadata": {
    "execution": {
     "iopub.execute_input": "2025-03-04T15:57:58.682650Z",
     "iopub.status.busy": "2025-03-04T15:57:58.682309Z",
     "iopub.status.idle": "2025-03-04T15:58:06.052375Z",
     "shell.execute_reply": "2025-03-04T15:58:06.051112Z"
    },
    "papermill": {
     "duration": 7.374884,
     "end_time": "2025-03-04T15:58:06.054320",
     "exception": false,
     "start_time": "2025-03-04T15:57:58.679436",
     "status": "completed"
    },
    "tags": []
   },
   "outputs": [
    {
     "name": "stdout",
     "output_type": "stream",
     "text": [
      "✅ Submission file saved as 'submission.csv' with 'ID' and 'prediction' columns.\n"
     ]
    },
    {
     "name": "stderr",
     "output_type": "stream",
     "text": [
      "<ipython-input-2-8b91174155ec>:98: FutureWarning: You are using `torch.load` with `weights_only=False` (the current default value), which uses the default pickle module implicitly. It is possible to construct malicious pickle data which will execute arbitrary code during unpickling (See https://github.com/pytorch/pytorch/blob/main/SECURITY.md#untrusted-models for more details). In a future release, the default value for `weights_only` will be flipped to `True`. This limits the functions that could be executed during unpickling. Arbitrary objects will no longer be allowed to be loaded via this mode unless they are explicitly allowlisted by the user via `torch.serialization.add_safe_globals`. We recommend you start setting `weights_only=True` for any use case where you don't have full control of the loaded file. Please open an issue on GitHub for any issues related to this experimental feature.\n",
      "  model.load_state_dict(torch.load(\"/kaggle/input/train2/efs_model.pth\", map_location=device))\n"
     ]
    }
   ],
   "source": [
    "import pandas as pd\n",
    "import numpy as np\n",
    "import torch\n",
    "import joblib  # For loading preprocessing models\n",
    "import torch.nn as nn\n",
    "from torch.utils.data import DataLoader, TensorDataset\n",
    "import os\n",
    "\n",
    "# Load pre-trained model\n",
    "device = torch.device(\"cuda\" if torch.cuda.is_available() else \"cpu\")\n",
    "\n",
    "# Load test dataset\n",
    "test_file_path = \"/kaggle/input/equity-post-HCT-survival-predictions/test.csv\"\n",
    "df_test = pd.read_csv(test_file_path)\n",
    "\n",
    "# Define the selected feature columns (excluding target 'efs')\n",
    "selected_columns = [\n",
    "    \"ID\", \"prim_disease_hct\", \"hla_match_b_low\", \"prod_type\",\n",
    "    \"year_hct\", \"obesity\", \"donor_age\", \"prior_tumor\", \"gvhd_proph\",\n",
    "    \"sex_match\", \"comorbidity_score\", \"karnofsky_score\", \"donor_related\",\n",
    "    \"age_at_hct\"\n",
    "]\n",
    "\n",
    "# Keep only the selected columns\n",
    "df_test = df_test[selected_columns]\n",
    "\n",
    "# =============================\n",
    "# STEP 2: LOAD PREPROCESSORS & MODEL\n",
    "# =============================\n",
    "\n",
    "# Load saved preprocessors\n",
    "preprocessor_dir = \"/kaggle/input/train2/preprocessor\"\n",
    "num_imputer = joblib.load(os.path.join(preprocessor_dir, \"num_imputer.pkl\"))\n",
    "cat_imputer = joblib.load(os.path.join(preprocessor_dir, \"cat_imputer.pkl\"))\n",
    "encoder = joblib.load(os.path.join(preprocessor_dir, \"encoder.pkl\"))\n",
    "scaler = joblib.load(os.path.join(preprocessor_dir, \"scaler.pkl\"))\n",
    "\n",
    "# =============================\n",
    "# STEP 3: PREPROCESS TEST DATA\n",
    "# =============================\n",
    "\n",
    "# Ensure ID column is available\n",
    "if \"ID\" not in df_test.columns:\n",
    "    raise ValueError(\"Test dataset must contain an 'ID' column.\")\n",
    "\n",
    "# Extract patient IDs\n",
    "patient_ids = df_test[\"ID\"]\n",
    "df_test = df_test.drop(columns=[\"ID\"])\n",
    "\n",
    "# Identify numerical and categorical columns\n",
    "num_cols = df_test.select_dtypes(include=['int64', 'float64']).columns.tolist()\n",
    "cat_cols = df_test.select_dtypes(include=['object']).columns.tolist()\n",
    "\n",
    "# Handle missing values\n",
    "df_test[num_cols] = num_imputer.transform(df_test[num_cols])\n",
    "df_test[cat_cols] = cat_imputer.transform(df_test[cat_cols])\n",
    "\n",
    "# Encode categorical features\n",
    "encoded_cats_test = encoder.transform(df_test[cat_cols])\n",
    "df_encoded_test = pd.DataFrame(encoded_cats_test, columns=encoder.get_feature_names_out(cat_cols))\n",
    "\n",
    "# Drop original categorical columns and merge encoded ones\n",
    "df_test = df_test.drop(columns=cat_cols)\n",
    "df_test = pd.concat([df_test, df_encoded_test], axis=1)\n",
    "\n",
    "# Standardize numerical features\n",
    "df_test[num_cols] = scaler.transform(df_test[num_cols])\n",
    "\n",
    "# Convert to PyTorch tensor\n",
    "X_test_tensor = torch.tensor(df_test.values, dtype=torch.float32).to(device)\n",
    "\n",
    "# =============================\n",
    "# STEP 1: DEFINE THE NEURAL NETWORK\n",
    "# =============================\n",
    "\n",
    "class EFSModel(nn.Module):\n",
    "    def __init__(self, input_size):\n",
    "        super(EFSModel, self).__init__()\n",
    "        self.model = nn.Sequential(\n",
    "            nn.Linear(input_size, 128),\n",
    "            nn.ReLU(),\n",
    "            nn.Dropout(0.3),\n",
    "            nn.Linear(128, 64),\n",
    "            nn.ReLU(),\n",
    "            nn.Dropout(0.3),\n",
    "            nn.Linear(64, 1),\n",
    "            nn.Sigmoid()\n",
    "        )\n",
    "\n",
    "    def forward(self, x):\n",
    "        return self.model(x)\n",
    "\n",
    "# Recreate the model architecture\n",
    "input_size = df_test.shape[1]  # Ensure the correct input size\n",
    "model = EFSModel(input_size).to(device)\n",
    "\n",
    "# Load the saved state dict\n",
    "model.load_state_dict(torch.load(\"/kaggle/input/train2/efs_model.pth\", map_location=device))\n",
    "\n",
    "# Set the model to evaluation mode\n",
    "model.eval()\n",
    "\n",
    "# =============================\n",
    "# STEP 3: MAKE PREDICTIONS\n",
    "# =============================\n",
    "\n",
    "# Predict risk scores\n",
    "with torch.no_grad():\n",
    "    predictions = model(X_test_tensor).cpu().numpy().flatten()\n",
    "\n",
    "# =============================\n",
    "# STEP 4: CREATE SUBMISSION FILE\n",
    "# =============================\n",
    "\n",
    "submission = pd.DataFrame({\n",
    "    \"ID\": patient_ids,\n",
    "    \"prediction\": predictions\n",
    "})\n",
    "\n",
    "submission.to_csv(\"/kaggle/working/submission.csv\", index=False)\n",
    "print(\"✅ Submission file saved as 'submission.csv' with 'ID' and 'prediction' columns.\")"
   ]
  },
  {
   "cell_type": "code",
   "execution_count": null,
   "id": "26944f58",
   "metadata": {
    "papermill": {
     "duration": 0.001842,
     "end_time": "2025-03-04T15:58:06.058420",
     "exception": false,
     "start_time": "2025-03-04T15:58:06.056578",
     "status": "completed"
    },
    "tags": []
   },
   "outputs": [],
   "source": []
  }
 ],
 "metadata": {
  "kaggle": {
   "accelerator": "none",
   "dataSources": [
    {
     "databundleVersionId": 10381525,
     "sourceId": 70942,
     "sourceType": "competition"
    },
    {
     "sourceId": 224054549,
     "sourceType": "kernelVersion"
    },
    {
     "sourceId": 225731985,
     "sourceType": "kernelVersion"
    }
   ],
   "dockerImageVersionId": 30918,
   "isGpuEnabled": false,
   "isInternetEnabled": false,
   "language": "python",
   "sourceType": "notebook"
  },
  "kernelspec": {
   "display_name": "Python 3",
   "language": "python",
   "name": "python3"
  },
  "language_info": {
   "codemirror_mode": {
    "name": "ipython",
    "version": 3
   },
   "file_extension": ".py",
   "mimetype": "text/x-python",
   "name": "python",
   "nbconvert_exporter": "python",
   "pygments_lexer": "ipython3",
   "version": "3.10.12"
  },
  "papermill": {
   "default_parameters": {},
   "duration": 12.597497,
   "end_time": "2025-03-04T15:58:08.368003",
   "environment_variables": {},
   "exception": null,
   "input_path": "__notebook__.ipynb",
   "output_path": "__notebook__.ipynb",
   "parameters": {},
   "start_time": "2025-03-04T15:57:55.770506",
   "version": "2.6.0"
  }
 },
 "nbformat": 4,
 "nbformat_minor": 5
}
