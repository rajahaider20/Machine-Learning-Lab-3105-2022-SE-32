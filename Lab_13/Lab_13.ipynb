{
 "cells": [
  {
   "cell_type": "code",
   "execution_count": 1,
   "id": "f80ea03e-8e64-413d-b0ba-6d5b6a44c98a",
   "metadata": {},
   "outputs": [],
   "source": [
    "import numpy as np"
   ]
  },
  {
   "cell_type": "code",
   "execution_count": 3,
   "id": "7e5dd286-880b-4f8e-a7eb-e803a4a089b0",
   "metadata": {},
   "outputs": [],
   "source": [
    "# Activation function for binary classification\n",
    "def activation(z):\n",
    "    return 1 if z >= 0 else 0\n",
    "# Model training using perceptron algorithm\n",
    "def train_model(features, labels, lr=0.1, max_iter=10):\n",
    "    n_features = features.shape[1]\n",
    "    # Initialize parameters with small random values (includes bias)\n",
    "    params = np.random.normal(0, 0.05, n_features + 1)\n",
    "    \n",
    "    for iteration in range(max_iter):\n",
    "        cumulative_mistakes = 0\n",
    "        for idx in range(len(features)):\n",
    "            # Append bias term at the end\n",
    "            augmented_feature = np.append(features[idx], 1)\n",
    "            linear_combination = np.dot(params, augmented_feature)\n",
    "            prediction = activation(linear_combination)\n",
    "            \n",
    "            # Calculate update\n",
    "            mistake = labels[idx] - prediction\n",
    "            cumulative_mistakes += abs(mistake)\n",
    "            params += lr * mistake * augmented_feature\n",
    "        \n",
    "        print(f\"Iteration {iteration+1}: Parameters = {params}, Mistakes = {cumulative_mistakes}\")\n",
    "        if cumulative_mistakes == 0:\n",
    "            break\n",
    "    \n",
    "    return params\n",
    "# Make predictions using trained parameters\n",
    "def classify_samples(features, parameters):\n",
    "    results = []\n",
    "    for sample in features:\n",
    "        # Add bias to sample\n",
    "        sample_with_bias = np.append(sample, 1)\n",
    "        output = activation(np.dot(parameters, sample_with_bias))\n",
    "        results.append(output)\n",
    "    return results"
   ]
  },
  {
   "cell_type": "code",
   "execution_count": 5,
   "id": "5ecd9f45-ce18-47d6-94a7-a212e66b4999",
   "metadata": {},
   "outputs": [
    {
     "name": "stdout",
     "output_type": "stream",
     "text": [
      "Iteration 1: Parameters = [ 0.00809717 -0.02754226  0.05821061  0.03184304], Mistakes = 1\n",
      "Iteration 2: Parameters = [ 0.00809717 -0.02754226  0.15821061  0.03184304], Mistakes = 2\n",
      "Iteration 3: Parameters = [0.00809717 0.07245774 0.15821061 0.03184304], Mistakes = 2\n",
      "Iteration 4: Parameters = [0.10809717 0.07245774 0.15821061 0.03184304], Mistakes = 2\n",
      "Iteration 5: Parameters = [ 0.10809717  0.07245774  0.15821061 -0.06815696], Mistakes = 1\n",
      "Iteration 6: Parameters = [ 0.10809717  0.07245774  0.15821061 -0.06815696], Mistakes = 0\n"
     ]
    }
   ],
   "source": [
    "# 3-input logical OR configuration\n",
    "input_data = np.array([\n",
    "    [0, 0, 0],  # All zeros case\n",
    "    [0, 0, 1],\n",
    "    [0, 1, 0],\n",
    "    [0, 1, 1],\n",
    "    [1, 0, 0],\n",
    "    [1, 0, 1],\n",
    "    [1, 1, 0],\n",
    "    [1, 1, 1]\n",
    "])\n",
    "target_labels = np.array([0, 1, 1, 1, 1, 1, 1, 1])\n",
    "# Train the model\n",
    "final_params = train_model(input_data, target_labels)"
   ]
  },
  {
   "cell_type": "code",
   "execution_count": 7,
   "id": "4b45a90f-7ce9-4554-9f6a-e4394b99637f",
   "metadata": {},
   "outputs": [
    {
     "name": "stdout",
     "output_type": "stream",
     "text": [
      "\n",
      "Model Evaluation:\n",
      "Sample: [0 0 0] => Prediction: 0 (Expected: 0)\n",
      "Sample: [0 0 1] => Prediction: 1 (Expected: 1)\n",
      "Sample: [0 1 0] => Prediction: 1 (Expected: 1)\n",
      "Sample: [0 1 1] => Prediction: 1 (Expected: 1)\n",
      "Sample: [1 0 0] => Prediction: 1 (Expected: 1)\n",
      "Sample: [1 0 1] => Prediction: 1 (Expected: 1)\n",
      "Sample: [1 1 0] => Prediction: 1 (Expected: 1)\n",
      "Sample: [1 1 1] => Prediction: 1 (Expected: 1)\n"
     ]
    }
   ],
   "source": [
    "# Evaluate performance\n",
    "print(\"\\nModel Evaluation:\")\n",
    "predicted_outputs = classify_samples(input_data, final_params)\n",
    "for i, sample in enumerate(input_data):\n",
    "    print(f\"Sample: {sample} => Prediction: {predicted_outputs[i]} (Expected: {target_labels[i]})\")"
   ]
  }
 ],
 "metadata": {
  "kernelspec": {
   "display_name": "Python 3 (ipykernel)",
   "language": "python",
   "name": "python3"
  },
  "language_info": {
   "codemirror_mode": {
    "name": "ipython",
    "version": 3
   },
   "file_extension": ".py",
   "mimetype": "text/x-python",
   "name": "python",
   "nbconvert_exporter": "python",
   "pygments_lexer": "ipython3",
   "version": "3.12.7"
  }
 },
 "nbformat": 4,
 "nbformat_minor": 5
}
