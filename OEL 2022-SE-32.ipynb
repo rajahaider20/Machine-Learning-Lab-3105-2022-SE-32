{
 "cells": [
  {
   "cell_type": "code",
   "execution_count": 1,
   "id": "cb0a3de1-9925-414c-86ca-632ed73e35c4",
   "metadata": {},
   "outputs": [],
   "source": [
    "import pandas as pd\n",
    "import numpy as np\n",
    "import matplotlib.pyplot as plt\n",
    "import seaborn as sns\n",
    "from sklearn.model_selection import train_test_split, GridSearchCV\n",
    "from sklearn.preprocessing import StandardScaler\n",
    "from sklearn.linear_model import LogisticRegression\n",
    "from sklearn.neighbors import KNeighborsClassifier\n",
    "from sklearn.naive_bayes import GaussianNB\n",
    "from sklearn.neural_network import MLPClassifier\n",
    "from sklearn.impute import SimpleImputer\n",
    "from sklearn.pipeline import Pipeline\n",
    "from sklearn.feature_selection import SelectKBest, f_classif\n",
    "from sklearn.metrics import accuracy_score, classification_report, confusion_matrix\n",
    "import warnings\n",
    "\n",
    "warnings.filterwarnings('ignore')\n",
    "np.random.seed(42)"
   ]
  },
  {
   "cell_type": "code",
   "execution_count": null,
   "id": "38c13f9f-4e7a-4ba8-863e-0ce559063b43",
   "metadata": {},
   "outputs": [
    {
     "name": "stdout",
     "output_type": "stream",
     "text": [
      "Combined Data Shape: (70000, 785)\n",
      "NaNs in Combined Features: 0\n",
      "NaNs in Combined Labels: 0\n"
     ]
    }
   ],
   "source": [
    "# Load datasets\n",
    "train_df = pd.read_csv('D:\\\\mnist_train.csv')  \n",
    "test_df = pd.read_csv('D:\\\\mnist_test.csv') \n",
    "\n",
    "# Combine datasets\n",
    "combined_df = pd.concat([train_df, test_df], axis=0, ignore_index=True)\n",
    "print(\"Combined Data Shape:\", combined_df.shape)\n",
    "\n",
    "# Check for NaNs in features and labels\n",
    "print(\"NaNs in Combined Features:\", combined_df.drop('label', axis=1).isna().sum().sum())\n",
    "print(\"NaNs in Combined Labels:\", combined_df['label'].isna().sum())\n",
    "\n",
    "# Separate features and labels\n",
    "X_combined = combined_df.drop('label', axis=1)\n",
    "y_combined = combined_df['label']"
   ]
  },
  {
   "cell_type": "code",
   "execution_count": 3,
   "id": "59ec1ec1-fe63-45c2-a820-189f0d40f132",
   "metadata": {},
   "outputs": [
    {
     "name": "stdout",
     "output_type": "stream",
     "text": [
      "Shape after dropping NaN labels: (70000, 785)\n",
      "NaNs in Processed Features: 0\n",
      "NaNs in Processed Labels: 0\n"
     ]
    }
   ],
   "source": [
    "# Impute NaNs in labels\n",
    "combined_df_clean = combined_df.dropna(subset=['label'])\n",
    "print(\"Shape after dropping NaN labels:\", combined_df_clean.shape)\n",
    "\n",
    "# Update X and y after cleaning\n",
    "X_combined = combined_df_clean.drop('label', axis=1)\n",
    "y_combined = combined_df_clean['label']\n",
    "\n",
    "# Preprocessing pipeline for features\n",
    "preprocessing_pipeline = Pipeline([\n",
    "    ('imputer', SimpleImputer(strategy='mean')),  # Replace NaNs in X with mean\n",
    "    ('scaler', StandardScaler())                  # Standardize features\n",
    "])\n",
    "\n",
    "# Apply preprocessing to features\n",
    "X_processed = preprocessing_pipeline.fit_transform(X_combined)\n",
    "\n",
    "# Normalize (already scaled, but explicit for clarity)\n",
    "X_processed = X_processed / 255.0\n",
    "\n",
    "# Verify no NaNs\n",
    "print(\"NaNs in Processed Features:\", np.isnan(X_processed).sum())\n",
    "print(\"NaNs in Processed Labels:\", np.isnan(y_combined).sum())"
   ]
  },
  {
   "cell_type": "code",
   "execution_count": 4,
   "id": "7c14b5bb-ffd3-4135-a4d5-23677c7fbfe1",
   "metadata": {},
   "outputs": [
    {
     "name": "stdout",
     "output_type": "stream",
     "text": [
      "Number of Features Selected: 200\n"
     ]
    }
   ],
   "source": [
    "# Feature selection\n",
    "selector = SelectKBest(score_func=f_classif, k=200)  # Select top 200 features\n",
    "X_selected = selector.fit_transform(X_processed, y_combined)\n",
    "\n",
    "# Get selected feature indices\n",
    "selected_features = selector.get_support()\n",
    "print(\"Number of Features Selected:\", X_selected.shape[1])"
   ]
  },
  {
   "cell_type": "code",
   "execution_count": 5,
   "id": "36907beb-f30f-4b73-86ec-142c3b70cf0b",
   "metadata": {},
   "outputs": [
    {
     "name": "stdout",
     "output_type": "stream",
     "text": [
      "Training Set Shape: (56000, 200)\n",
      "Testing Set Shape: (14000, 200)\n"
     ]
    }
   ],
   "source": [
    "# Split data (80% train, 20% test)\n",
    "X_train, X_test, y_train, y_test = train_test_split(\n",
    "    X_selected, y_combined, test_size=0.2, random_state=42, stratify=y_combined\n",
    ")\n",
    "\n",
    "print(\"Training Set Shape:\", X_train.shape)\n",
    "print(\"Testing Set Shape:\", X_test.shape)"
   ]
  },
  {
   "cell_type": "code",
   "execution_count": 6,
   "id": "311131e8-6627-49f8-9022-1124f29731f5",
   "metadata": {},
   "outputs": [
    {
     "name": "stdout",
     "output_type": "stream",
     "text": [
      "Logistic Regression Accuracy: 0.796\n",
      "              precision    recall  f1-score   support\n",
      "\n",
      "           0       0.85      0.92      0.88      1381\n",
      "           1       0.73      0.98      0.83      1575\n",
      "           2       0.87      0.74      0.80      1398\n",
      "           3       0.74      0.82      0.78      1428\n",
      "           4       0.74      0.79      0.76      1365\n",
      "           5       0.83      0.58      0.68      1263\n",
      "           6       0.86      0.88      0.87      1375\n",
      "           7       0.81      0.89      0.85      1459\n",
      "           8       0.84      0.71      0.77      1365\n",
      "           9       0.75      0.61      0.68      1391\n",
      "\n",
      "    accuracy                           0.80     14000\n",
      "   macro avg       0.80      0.79      0.79     14000\n",
      "weighted avg       0.80      0.80      0.79     14000\n",
      "\n",
      "[[1266    0    9    6    4   33   38    3   21    1]\n",
      " [   0 1539   11    5    0    5    5    1    7    2]\n",
      " [  36  123 1037   34   33    2   56   43   33    1]\n",
      " [  11   52   52 1177    4   39   10   26   40   17]\n",
      " [  13   28    6    0 1078    7   27   31   17  158]\n",
      " [  35   90   16  227   32  733   37   33   26   34]\n",
      " [  60   43   12    2   12   26 1205    4   11    0]\n",
      " [  12   75   20    1   18    0    2 1296   10   25]\n",
      " [  25  123   27  114   16   21   15   20  964   40]\n",
      " [  23   40    5   24  266   20   10  136   16  851]]\n",
      "KNN Accuracy: 0.957\n",
      "              precision    recall  f1-score   support\n",
      "\n",
      "           0       0.97      0.99      0.98      1381\n",
      "           1       0.95      0.99      0.97      1575\n",
      "           2       0.97      0.95      0.96      1398\n",
      "           3       0.95      0.96      0.95      1428\n",
      "           4       0.95      0.91      0.93      1365\n",
      "           5       0.96      0.94      0.95      1263\n",
      "           6       0.97      0.98      0.98      1375\n",
      "           7       0.95      0.96      0.96      1459\n",
      "           8       0.99      0.93      0.96      1365\n",
      "           9       0.91      0.94      0.93      1391\n",
      "\n",
      "    accuracy                           0.96     14000\n",
      "   macro avg       0.96      0.96      0.96     14000\n",
      "weighted avg       0.96      0.96      0.96     14000\n",
      "\n",
      "[[1373    1    0    0    0    0    5    1    0    1]\n",
      " [   0 1562    4    1    1    2    0    5    0    0]\n",
      " [   9   13 1328    9    3    1    5   25    5    0]\n",
      " [   1    0   11 1368    1   27    1   12    6    1]\n",
      " [   2   13    1    0 1248    0    8    5    0   88]\n",
      " [   4    5    2   36    2 1190    9    1    2   12]\n",
      " [  15    4    1    0    3    7 1343    0    1    1]\n",
      " [   2   18   14    0   10    0    0 1407    0    8]\n",
      " [   4   12   10   18    4   15    6    9 1271   16]\n",
      " [   5    8    0    9   38    3    1   13    3 1311]]\n",
      "Naive Bayes Accuracy: 0.753\n",
      "              precision    recall  f1-score   support\n",
      "\n",
      "           0       0.90      0.91      0.91      1381\n",
      "           1       0.83      0.95      0.89      1575\n",
      "           2       0.85      0.74      0.79      1398\n",
      "           3       0.80      0.73      0.77      1428\n",
      "           4       0.77      0.27      0.40      1365\n",
      "           5       0.79      0.53      0.63      1263\n",
      "           6       0.81      0.91      0.86      1375\n",
      "           7       0.83      0.88      0.85      1459\n",
      "           8       0.73      0.69      0.71      1365\n",
      "           9       0.46      0.86      0.60      1391\n",
      "\n",
      "    accuracy                           0.75     14000\n",
      "   macro avg       0.78      0.75      0.74     14000\n",
      "weighted avg       0.78      0.75      0.74     14000\n",
      "\n",
      "[[1263    0   11    1    0   21   28    1   49    7]\n",
      " [   0 1503   12    6    0    8    8    9   23    6]\n",
      " [  18   77 1032   24   16   12   91   26   77   25]\n",
      " [  20   47   64 1043    6   49   17   30   62   90]\n",
      " [   5    4    4    0  364   11   62   32   18  865]\n",
      " [  40   22   26  165   14  671   45   41   54  185]\n",
      " [  25   16    8    1    9   28 1249    4   29    6]\n",
      " [  18   26   20    2   23    1    2 1284   14   69]\n",
      " [   4  102   31   43    8   51   29   24  939  134]\n",
      " [  13    8    2   11   33    2    9   98   22 1193]]\n",
      "ANN Accuracy: 0.963\n",
      "              precision    recall  f1-score   support\n",
      "\n",
      "           0       0.97      0.99      0.98      1381\n",
      "           1       0.98      0.99      0.98      1575\n",
      "           2       0.96      0.95      0.96      1398\n",
      "           3       0.96      0.96      0.96      1428\n",
      "           4       0.96      0.94      0.95      1365\n",
      "           5       0.95      0.95      0.95      1263\n",
      "           6       0.98      0.98      0.98      1375\n",
      "           7       0.96      0.96      0.96      1459\n",
      "           8       0.96      0.95      0.96      1365\n",
      "           9       0.93      0.95      0.94      1391\n",
      "\n",
      "    accuracy                           0.96     14000\n",
      "   macro avg       0.96      0.96      0.96     14000\n",
      "weighted avg       0.96      0.96      0.96     14000\n",
      "\n",
      "[[1362    0    1    1    1    4    0    1    4    7]\n",
      " [   0 1552    5    6    2    2    0    4    3    1]\n",
      " [   6    9 1325    7    8    3    9   17   12    2]\n",
      " [   5    2    7 1370    1   24    0    8    5    6]\n",
      " [   2    4    4    0 1289    1    8    4    2   51]\n",
      " [   5    3    8   23    2 1201    6    2    6    7]\n",
      " [   9    2    1    0    6    6 1346    0    5    0]\n",
      " [   1    7   20    4    5    0    0 1403    5   14]\n",
      " [   4    4    5   11    6   16    7    4 1303    5]\n",
      " [   4    5    0    5   23    7    1   14    6 1326]]\n",
      "Tuned ANN Accuracy: 0.916\n",
      "Best Parameters: {'hidden_layer_sizes': (100,), 'learning_rate_init': 0.01}\n"
     ]
    }
   ],
   "source": [
    "# Define models\n",
    "models = {\n",
    "    'Logistic Regression': LogisticRegression(max_iter=1000),\n",
    "    'KNN': KNeighborsClassifier(n_neighbors=5),\n",
    "    'Naive Bayes': GaussianNB(),\n",
    "    'ANN': MLPClassifier(max_iter=1000)\n",
    "}\n",
    "\n",
    "# Train and evaluate models\n",
    "results = {}\n",
    "for name, model in models.items():\n",
    "    model.fit(X_train, y_train)\n",
    "    y_pred = model.predict(X_test)\n",
    "    accuracy = accuracy_score(y_test, y_pred)\n",
    "    results[name] = accuracy\n",
    "    print(f'{name} Accuracy: {accuracy:.3f}')\n",
    "    print(classification_report(y_test, y_pred))\n",
    "    print(confusion_matrix(y_test, y_pred))\n",
    "\n",
    "# Tune ANN\n",
    "param_grid = {\n",
    "    'hidden_layer_sizes': [(100,), (50, 50)],\n",
    "    'learning_rate_init': [0.001, 0.01]\n",
    "}\n",
    "grid_search = GridSearchCV(MLPClassifier(max_iter=1000), param_grid, cv=3, n_jobs=-1)\n",
    "grid_search.fit(X_train[:5000], y_train[:5000])  # Subset for speed; adjust as needed\n",
    "best_ann = grid_search.best_estimator_\n",
    "y_pred_tuned = best_ann.predict(X_test)\n",
    "results['Tuned ANN'] = accuracy_score(y_test, y_pred_tuned)\n",
    "print(f'Tuned ANN Accuracy: {results[\"Tuned ANN\"]:.3f}')\n",
    "print(f'Best Parameters: {grid_search.best_params_}')"
   ]
  },
  {
   "cell_type": "code",
   "execution_count": 16,
   "id": "b1a5dbba-2801-4058-972c-83c656b6a0b6",
   "metadata": {},
   "outputs": [
    {
     "data": {
      "image/png": "[encoded data removed]",
      "text/plain": [
       "<Figure size 1000x500 with 1 Axes>"
      ]
     },
     "metadata": {},
     "output_type": "display_data"
    }
   ],
   "source": [
    "plt.figure(figsize=(10, 5))\n",
    "plt.bar(results.keys(), results.values(), color=['red', 'blue', 'green', 'yellow', 'pink'])\n",
    "plt.title('Model Accuracy Comparison')\n",
    "plt.ylabel('Accuracy')\n",
    "plt.ylim(0, 1)\n",
    "plt.xticks(rotation=45)\n",
    "plt.show()"
   ]
  },
  {
   "cell_type": "code",
   "execution_count": null,
   "id": "f47ff270-0447-4bf3-994c-0b1e5031132f",
   "metadata": {},
   "outputs": [],
   "source": []
  }
 ],
 "metadata": {
  "kernelspec": {
   "display_name": "Python 3 (ipykernel)",
   "language": "python",
   "name": "python3"
  },
  "language_info": {
   "codemirror_mode": {
    "name": "ipython",
    "version": 3
   },
   "file_extension": ".py",
   "mimetype": "text/x-python",
   "name": "python",
   "nbconvert_exporter": "python",
   "pygments_lexer": "ipython3",
   "version": "3.12.7"
  }
 },
 "nbformat": 4,
 "nbformat_minor": 5
}
